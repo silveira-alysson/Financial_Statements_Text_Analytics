{
 "cells": [
  {
   "cell_type": "markdown",
   "metadata": {},
   "source": [
    "### This notebook imports tab separated files (sub.tsv and txt.tsv), merges files from all target years and stores them as pickle files. "
   ]
  },
  {
   "cell_type": "code",
   "execution_count": 1,
   "metadata": {},
   "outputs": [],
   "source": [
    "# import required libraries\n",
    "\n",
    "import os\n",
    "import pandas as pd\n",
    "import pickle"
   ]
  },
  {
   "cell_type": "code",
   "execution_count": null,
   "metadata": {},
   "outputs": [],
   "source": [
    "def opensecfiles(sub_path, txt_path):\n",
    "    ''' This function....'''\n",
    "    sub = pd.read_csv(sub_path, sep='\\t', encoding='latin_1', lineterminator= '\\r', header=0, error_bad_lines=False, low_memory=False) # lineterminator='\\n', \n",
    "    txt = pd.read_csv(txt_path, sep='\\t', encoding='latin_1', lineterminator= '\\r', header=0, error_bad_lines=False, low_memory=False) #lineterminator='\\n',\n",
    "    \n",
    "    # Subset text blocks from '10-K' reports\n",
    "    sub = sub[['adsh','cik', 'name', 'sic', 'afs', 'nciks', 'aciks', 'form','fy','fp']][sub['form'].isin(['10-K'])]\n",
    "    txt = txt[['adsh','tag','dcml','txtlen','value']][(txt['adsh'].isin(sub['adsh'])) & (txt['tag'].str.contains('TextBlock'))]\n",
    "    \n",
    "    return sub, txt"
   ]
  },
  {
   "cell_type": "markdown",
   "metadata": {},
   "source": [
    "Please change the variables below to match your local path and the target years of your analysis"
   ]
  },
  {
   "cell_type": "code",
   "execution_count": null,
   "metadata": {},
   "outputs": [],
   "source": [
    "# Define file paths\n",
    "path = r\"C:\\Users\\alyss\\Desktop\\MS BAIS\\Fall 2020\\ISM6930 - Text Analytics\\Team Project\\Financial Statements NLP\\zipfiles\\tsv files\"\n",
    "\n",
    "# Define start and end years of analysis\n",
    "start = 2012\n",
    "end = 2019"
   ]
  },
  {
   "cell_type": "code",
   "execution_count": null,
   "metadata": {},
   "outputs": [],
   "source": [
    "\n",
    "subs= pd.DataFrame(columns=['adsh','cik', 'name', 'sic', 'afs', 'nciks', 'aciks', 'form','fy','fp'])\n",
    "txts = pd.DataFrame(columns= ['adsh','tag','dcml','txtlen','value'])\n",
    "\n",
    "try: \n",
    "    for year in range(start, end):\n",
    "        for quarter in range(1, 5):\n",
    "            name = str(year) + \"_q\" + str(quarter)\n",
    "            sub_name = name + \"_sub.tsv\"\n",
    "            txt_name = name + \"_txt.tsv\"\n",
    "            sub_path = os.path.join(path, sub_name)\n",
    "            txt_path = os.path.join(path, txt_name)\n",
    "            sub, txt = opensecfiles(sub_path, txt_path)\n",
    "            subs=subs.append(sub, ignore_index=True)\n",
    "            txts=txts.append(txt, ignore_index=True)\n",
    "except:\n",
    "    pass"
   ]
  },
  {
   "cell_type": "code",
   "execution_count": null,
   "metadata": {},
   "outputs": [],
   "source": [
    "# Store txts as a pickle file (serialize)\n",
    "with open('txts.pickle', 'wb') as handle_txts:\n",
    "    pickle.dump(txts, handle_txts, protocol=pickle.HIGHEST_PROTOCOL)"
   ]
  },
  {
   "cell_type": "code",
   "execution_count": null,
   "metadata": {},
   "outputs": [],
   "source": [
    "# Store subs as a pickle file (serialize)\n",
    "with open('subs.pickle', 'wb') as handle_subs:\n",
    "    pickle.dump(subs, handle_subs, protocol=pickle.HIGHEST_PROTOCOL)"
   ]
  }
 ],
 "metadata": {
  "kernelspec": {
   "display_name": "Python 3",
   "language": "python",
   "name": "python3"
  },
  "language_info": {
   "codemirror_mode": {
    "name": "ipython",
    "version": 3
   },
   "file_extension": ".py",
   "mimetype": "text/x-python",
   "name": "python",
   "nbconvert_exporter": "python",
   "pygments_lexer": "ipython3",
   "version": "3.8.3"
  }
 },
 "nbformat": 4,
 "nbformat_minor": 2
}
