{
 "cells": [
  {
   "cell_type": "code",
   "execution_count": 2,
   "metadata": {},
   "outputs": [],
   "source": [
    "import pandas as pd\n",
    "import simfin as sf\n",
    "from simfin.names import *\n",
    "import numpy as np"
   ]
  },
  {
   "cell_type": "markdown",
   "metadata": {},
   "source": [
    "#### Import financial data from SimFin API"
   ]
  },
  {
   "cell_type": "code",
   "execution_count": 3,
   "metadata": {},
   "outputs": [
    {
     "name": "stdout",
     "output_type": "stream",
     "text": [
      "Dataset \"us-income-annual\" on disk (61 days old).\n",
      "- Downloading ... 100.0%\n",
      "- Extracting zip-file ... Done!\n",
      "- Loading from disk ... Done!\n",
      "Dataset \"us-balance-annual\" on disk (61 days old).\n",
      "- Downloading ... 100.0%\n",
      "- Extracting zip-file ... Done!\n",
      "- Loading from disk ... Done!\n",
      "Dataset \"us-cashflow-annual\" on disk (61 days old).\n",
      "- Downloading ... 100.0%\n",
      "- Extracting zip-file ... Done!\n",
      "- Loading from disk ... Done!\n",
      "Dataset \"us-companies\" on disk (61 days old).\n",
      "- Downloading ... 100.0%\n",
      "- Extracting zip-file ... Done!\n",
      "- Loading from disk ... Done!\n",
      "Dataset \"industries\" on disk (61 days old).\n",
      "- Downloading ... 100.0%\n",
      "- Extracting zip-file ... Done!\n",
      "- Loading from disk ... Done!\n"
     ]
    }
   ],
   "source": [
    "sf.set_data_dir('~/simfin_data/')\n",
    "sf.set_api_key(api_key='free')\n",
    "df_income = sf.load_income(variant='annual', market='us')\n",
    "df_balance = sf.load_balance(variant='annual', market='us')\n",
    "df_cashflow = sf.load_cashflow(variant='annual', market='us')\n",
    "df_companies = sf.load_companies(index=TICKER, market='us')\n",
    "df_industries = sf.load_industries()"
   ]
  },
  {
   "cell_type": "code",
   "execution_count": 3,
   "metadata": {},
   "outputs": [],
   "source": [
    "df_income_reduced = df_income[['SimFinId', 'Currency', 'Fiscal Year','Income (Loss) from Continuing Operations',\n",
    "                               'Revenue','Cost of Revenue', 'Gross Profit','Selling, General & Administrative',\n",
    "                               'Depreciation & Amortization', 'Non-Operating Income (Loss)']]\n",
    "\n",
    "df_balance_reduced = df_balance[['SimFinId', 'Currency', 'Fiscal Year','Total Assets','Total Equity',\n",
    "                                 'Short Term Debt','Long Term Debt', 'Cash, Cash Equivalents & Short Term Investments',\n",
    "                                 'Long Term Investments & Receivables','Accounts & Notes Receivable','Payables & Accruals',\n",
    "                                 'Inventories','Property, Plant & Equipment, Net']]\n",
    "\n",
    "df_cashflow_reduced = df_cashflow[['SimFinId', 'Currency', 'Fiscal Year','Net Cash from Operating Activities',\n",
    "                                   'Net Cash from Investing Activities', 'Net Cash from Financing Activities']]"
   ]
  },
  {
   "cell_type": "markdown",
   "metadata": {},
   "source": [
    "#### Extracting the sign of each cashflow item to calculate lifecycle (Dickinson, 2010)"
   ]
  },
  {
   "cell_type": "code",
   "execution_count": 4,
   "metadata": {},
   "outputs": [],
   "source": [
    "pd.set_option('mode.chained_assignment', None)\n",
    "df_cashflow_reduced['Op_sign'] = [\"+\" if company >= 0 else \"-\" for company in df_cashflow_reduced['Net Cash from Operating Activities']]\n",
    "df_cashflow_reduced['Inv_sign'] = [\"+\" if company >= 0 else \"-\" for company in df_cashflow_reduced['Net Cash from Investing Activities']]\n",
    "df_cashflow_reduced['Fin_sign'] = [\"+\" if company >= 0 else \"-\" for company in df_cashflow_reduced['Net Cash from Financing Activities']]"
   ]
  },
  {
   "cell_type": "code",
   "execution_count": 5,
   "metadata": {},
   "outputs": [],
   "source": [
    "df_cashflow_reduced['lifecycle'] = None\n",
    "for row in range(0,len(df_cashflow_reduced)):\n",
    "    if (df_cashflow_reduced['Op_sign'][row] == '-') & (df_cashflow_reduced['Inv_sign'][row] == '-') & (df_cashflow_reduced['Fin_sign'][row]==\"+\"):\n",
    "        df_cashflow_reduced['lifecycle'][row] = 'Introduction'\n",
    "    elif (df_cashflow_reduced['Op_sign'][row] == '+') & (df_cashflow_reduced['Inv_sign'][row] == '-') & (df_cashflow_reduced['Fin_sign'][row]==\"+\"):\n",
    "        df_cashflow_reduced['lifecycle'][row] = 'Growth'\n",
    "    elif (df_cashflow_reduced['Op_sign'][row] == '+') & (df_cashflow_reduced['Inv_sign'][row] == '-') & (df_cashflow_reduced['Fin_sign'][row]==\"-\"):\n",
    "        df_cashflow_reduced['lifecycle'][row] = 'Mature'\n",
    "    elif (df_cashflow_reduced['Op_sign'][row] == '-') & (df_cashflow_reduced['Inv_sign'][row] == '-') & (df_cashflow_reduced['Fin_sign'][row]==\"-\"):\n",
    "        df_cashflow_reduced['lifecycle'][row] = 'Shake-out'\n",
    "    elif (df_cashflow_reduced['Op_sign'][row] == '+') & (df_cashflow_reduced['Inv_sign'][row] == '+') & (df_cashflow_reduced['Fin_sign'][row]==\"+\"):\n",
    "        df_cashflow_reduced['lifecycle'][row] = 'Shake-out'\n",
    "    elif (df_cashflow_reduced['Op_sign'][row] == '+') & (df_cashflow_reduced['Inv_sign'][row] == '+') & (df_cashflow_reduced['Fin_sign'][row]==\"-\"):\n",
    "        df_cashflow_reduced['lifecycle'][row] = 'Shake-out'\n",
    "    else:\n",
    "        df_cashflow_reduced['lifecycle'][row] = 'Decline'"
   ]
  },
  {
   "cell_type": "code",
   "execution_count": 6,
   "metadata": {},
   "outputs": [
    {
     "data": {
      "text/plain": [
       "lifecycle\n",
       "Decline          773\n",
       "Growth          4240\n",
       "Introduction    1681\n",
       "Mature          8404\n",
       "Shake-out       1395\n",
       "Name: lifecycle, dtype: int64"
      ]
     },
     "execution_count": 6,
     "metadata": {},
     "output_type": "execute_result"
    }
   ],
   "source": [
    "df_cashflow_reduced.groupby(['lifecycle'])['lifecycle'].count()"
   ]
  },
  {
   "cell_type": "code",
   "execution_count": 7,
   "metadata": {},
   "outputs": [],
   "source": [
    "df_cashflow_lifecycle = df_cashflow_reduced.drop(['Net Cash from Operating Activities','Net Cash from Investing Activities',\n",
    "                                            'Net Cash from Financing Activities', 'Op_sign', 'Inv_sign', 'Fin_sign'], axis=1)"
   ]
  },
  {
   "cell_type": "code",
   "execution_count": 8,
   "metadata": {},
   "outputs": [],
   "source": [
    "df_financial = df_income_reduced.merge(df_balance_reduced, on=['Report Date', 'SimFinId', 'Currency', 'Fiscal Year']).merge(df_cashflow_lifecycle, on=['Report Date', 'SimFinId', 'Currency', 'Fiscal Year'])\n",
    "df_financial.reset_index(level=0, inplace=True)"
   ]
  },
  {
   "cell_type": "markdown",
   "metadata": {},
   "source": [
    "#### Ckecking null values on financial data set"
   ]
  },
  {
   "cell_type": "code",
   "execution_count": 9,
   "metadata": {},
   "outputs": [
    {
     "name": "stdout",
     "output_type": "stream",
     "text": [
      "Report Date                                        0.000000\n",
      "SimFinId                                           0.000000\n",
      "Currency                                           0.000000\n",
      "Fiscal Year                                        0.000000\n",
      "Income (Loss) from Continuing Operations           0.000000\n",
      "Revenue                                            0.015886\n",
      "Cost of Revenue                                    0.093919\n",
      "Gross Profit                                       0.015219\n",
      "Selling, General & Administrative                  0.049961\n",
      "Depreciation & Amortization                        0.563027\n",
      "Non-Operating Income (Loss)                        0.011156\n",
      "Total Assets                                       0.000000\n",
      "Total Equity                                       0.000121\n",
      "Short Term Debt                                    0.337477\n",
      "Long Term Debt                                     0.219548\n",
      "Cash, Cash Equivalents & Short Term Investments    0.002971\n",
      "Long Term Investments & Receivables                0.711999\n",
      "Accounts & Notes Receivable                        0.084642\n",
      "Payables & Accruals                                0.004669\n",
      "Inventories                                        0.306736\n",
      "Property, Plant & Equipment, Net                   0.021100\n",
      "lifecycle                                          0.000000\n",
      "dtype: float64\n"
     ]
    }
   ],
   "source": [
    "print(df_financial.isnull().sum()/len(df_financial))"
   ]
  },
  {
   "cell_type": "code",
   "execution_count": 10,
   "metadata": {},
   "outputs": [
    {
     "name": "stdout",
     "output_type": "stream",
     "text": [
      "16493\n"
     ]
    }
   ],
   "source": [
    "print(len(df_financial))"
   ]
  },
  {
   "cell_type": "markdown",
   "metadata": {},
   "source": [
    "#### Dropping companies that didn't report revenues or costs. Problably holdings that don't have operation."
   ]
  },
  {
   "cell_type": "code",
   "execution_count": 11,
   "metadata": {},
   "outputs": [
    {
     "data": {
      "text/plain": [
       "14872"
      ]
     },
     "execution_count": 11,
     "metadata": {},
     "output_type": "execute_result"
    }
   ],
   "source": [
    "drop_row_null = list(df_financial.index[df_financial['Revenue'].isnull() == True]) # 262 rows\n",
    "df_financial = df_financial.drop(drop_row_null)\n",
    "drop_row_zero = list(df_financial.index[df_financial['Revenue']==0]) #135 rows\n",
    "df_financial = df_financial.drop(drop_row_zero)\n",
    "drop_row_null_cost = list(df_financial.index[df_financial['Cost of Revenue'].isnull() == True]) # 262 rows\n",
    "df_financial = df_financial.drop(drop_row_null_cost)\n",
    "drop_row_zero_cost = list(df_financial.index[df_financial['Cost of Revenue']==0]) #32 rows\n",
    "df_financial = df_financial.drop(drop_row_zero_cost)\n",
    "len(df_financial)"
   ]
  },
  {
   "cell_type": "markdown",
   "metadata": {},
   "source": [
    "#### Some companies doesn't report values for some of the lines because they don't have it. So it was replaced by zero"
   ]
  },
  {
   "cell_type": "code",
   "execution_count": 12,
   "metadata": {},
   "outputs": [],
   "source": [
    "df_financial = df_financial.fillna(0) "
   ]
  },
  {
   "cell_type": "markdown",
   "metadata": {},
   "source": [
    "#### Calculating numerical dependent variables"
   ]
  },
  {
   "cell_type": "code",
   "execution_count": 13,
   "metadata": {},
   "outputs": [],
   "source": [
    "#Some of the items already carries negative values (e.g. Cost of Revenue and Selling, General & Administrative)\n",
    "#All formulas were adapted\n",
    "df_financial['total.debt'] = df_financial['Short Term Debt'] + df_financial['Long Term Debt']\n",
    "df_financial['size'] = np.log(1+df_financial['Total Assets'])\n",
    "df_financial['leverage'] = df_financial['total.debt']/df_financial['Total Assets']\n",
    "df_financial['ebit'] = df_financial['Revenue'] + df_financial['Selling, General & Administrative']\n",
    "df_financial['ebitda'] = df_financial['ebit'] - df_financial['Depreciation & Amortization']\n",
    "df_financial['roa'] = df_financial['Income (Loss) from Continuing Operations']/df_financial['Total Assets']\n",
    "df_financial['roe'] = df_financial['Income (Loss) from Continuing Operations']/df_financial['Total Equity']\n",
    "df_financial['roic'] = df_financial['Income (Loss) from Continuing Operations']/(df_financial['Total Assets'] - df_financial['Cash, Cash Equivalents & Short Term Investments'] - df_financial['Long Term Investments & Receivables'])\n",
    "df_financial['gross.profit.margin'] = df_financial['Gross Profit']/df_financial['Revenue']\n",
    "df_financial['ebit.margin'] = df_financial['ebit']/df_financial['Revenue']\n",
    "df_financial['net.profit.margin'] = df_financial['Income (Loss) from Continuing Operations']/df_financial['Revenue']\n",
    "df_financial['asset.turnover'] = df_financial['Revenue']/df_financial['Property, Plant & Equipment, Net']\n",
    "df_financial['financial.leverage'] = df_financial['Income (Loss) from Continuing Operations']*df_financial['Total Assets']/df_financial['Total Equity']/(df_financial['Income (Loss) from Continuing Operations']-df_financial['Non-Operating Income (Loss)'])\n",
    "df_financial['operational.leverage'] = df_financial['Gross Profit']/(df_financial['Gross Profit']+df_financial['Selling, General & Administrative'])\n",
    "df_financial['dso'] = (df_financial['Accounts & Notes Receivable']*360)/df_financial['Revenue']\n",
    "df_financial['dpo'] = (df_financial['Accounts & Notes Receivable']*360)/df_financial['Revenue']\n",
    "df_financial['dio'] = (df_financial['Inventories']*360)/df_financial['Cost of Revenue']*-1"
   ]
  },
  {
   "cell_type": "code",
   "execution_count": 14,
   "metadata": {},
   "outputs": [],
   "source": [
    "df_financial = df_financial[['Report Date','SimFinId', 'Currency', 'Fiscal Year', 'Revenue', 'Income (Loss) from Continuing Operations', \n",
    "                                   'total.debt', 'size', 'leverage', 'ebit', 'ebitda', 'roa', 'roe', 'roic',\n",
    "                                   'gross.profit.margin', 'ebit.margin', 'net.profit.margin',\n",
    "                                   'asset.turnover', 'financial.leverage', 'operational.leverage', 'dso',\n",
    "                                   'dpo', 'dio', 'lifecycle']]"
   ]
  },
  {
   "cell_type": "markdown",
   "metadata": {},
   "source": [
    "#### Gathering Industry Segment Information, cik (unique) number, and company name "
   ]
  },
  {
   "cell_type": "code",
   "execution_count": 15,
   "metadata": {},
   "outputs": [],
   "source": [
    "# merging tables to gather companies' names\n",
    "df_financial = df_financial.merge(df_companies, on ='SimFinId', how ='left').drop(['IndustryId'],axis=1)\n",
    "companies_txt = pd.read_csv(r'C:\\Users\\alyss\\Desktop\\MS BAIS\\Fall 2020\\ISM6930 - Text Analytics\\Team Project\\Financial Statements NLP\\Final Project\\companies_sec.csv')\n",
    "companies_txt = companies_txt.drop('Unnamed: 0', axis=1)"
   ]
  },
  {
   "cell_type": "code",
   "execution_count": 16,
   "metadata": {},
   "outputs": [],
   "source": [
    "# In the SEC dataset, sic numbers has 4 digits. We are spliting companies by the first 2 digits to reduce the number of industries.\n",
    "import math\n",
    "companies_txt['sic'] = companies_txt['sic']/100\n",
    "companies_txt['sic'] = np.floor(companies_txt['sic'])"
   ]
  },
  {
   "cell_type": "code",
   "execution_count": 17,
   "metadata": {},
   "outputs": [],
   "source": [
    "# Removing the punctuation from the names helped to reduce the number of missing data from 145 to 108\n",
    "companies_txt['name'] = companies_txt['name'].str.replace(',',\"\")\n",
    "companies_txt['name'] = companies_txt['name'].str.replace('.',\"\")\n",
    "companies_txt = companies_txt.rename(columns={\"name\": \"Company Name\"})\n",
    "companies_txt = companies_txt.drop_duplicates(ignore_index = True)\n",
    "companies_txt = companies_txt.reset_index(drop=True)\n",
    "df_financial['Company Name'] = df_financial['Company Name'].str.upper()\n",
    "df_financial['Company Name'] = df_financial['Company Name'].str.replace(',',\"\")\n",
    "df_financial['Company Name'] = df_financial['Company Name'].str.replace('.',\"\")\n",
    "df_financial = df_financial.merge(companies_txt, on='Company Name', how='left')"
   ]
  },
  {
   "cell_type": "code",
   "execution_count": 18,
   "metadata": {},
   "outputs": [
    {
     "data": {
      "text/plain": [
       "0.06224256292906179"
      ]
     },
     "execution_count": 18,
     "metadata": {},
     "output_type": "execute_result"
    }
   ],
   "source": [
    "# Checking companies that we couldn't find the segment\n",
    "df_financial['sic'].isnull().sum()/len(df_financial['sic'])"
   ]
  },
  {
   "cell_type": "markdown",
   "metadata": {},
   "source": [
    "dropping the few companies that we couldn't find the segment"
   ]
  },
  {
   "cell_type": "code",
   "execution_count": 19,
   "metadata": {},
   "outputs": [],
   "source": [
    "df_financial = df_financial.drop(list(df_financial.index[df_financial['sic'].isnull()==True]))"
   ]
  },
  {
   "cell_type": "code",
   "execution_count": 20,
   "metadata": {},
   "outputs": [],
   "source": [
    "df_financial = df_financial.reset_index(drop=True)"
   ]
  },
  {
   "cell_type": "markdown",
   "metadata": {},
   "source": [
    "#### Calculating the dependent variable"
   ]
  },
  {
   "cell_type": "code",
   "execution_count": 21,
   "metadata": {},
   "outputs": [],
   "source": [
    "segment_mean = pd.DataFrame(df_financial.groupby(['sic'])['Income (Loss) from Continuing Operations'].agg(np.mean))\n",
    "segment_mean = segment_mean.rename(columns={'Income (Loss) from Continuing Operations':'segment.mean'})"
   ]
  },
  {
   "cell_type": "code",
   "execution_count": 22,
   "metadata": {},
   "outputs": [],
   "source": [
    "df_financial = df_financial.merge(segment_mean, on='sic', how = 'left')"
   ]
  },
  {
   "cell_type": "code",
   "execution_count": 23,
   "metadata": {},
   "outputs": [],
   "source": [
    "df_financial['return.above.average'] = [1 if df_financial['Income (Loss) from Continuing Operations'][row] >= df_financial['segment.mean'][row] else 0 for row in range(0, len(df_financial)) ]"
   ]
  },
  {
   "cell_type": "code",
   "execution_count": 24,
   "metadata": {},
   "outputs": [],
   "source": [
    "df_financial = df_financial.drop_duplicates().reset_index(drop=True)"
   ]
  },
  {
   "cell_type": "code",
   "execution_count": 25,
   "metadata": {},
   "outputs": [],
   "source": [
    "df_financial['return.above.average'] = df_financial.groupby(['SimFinId'])['return.above.average'].shift(-1)"
   ]
  },
  {
   "cell_type": "code",
   "execution_count": 26,
   "metadata": {},
   "outputs": [],
   "source": [
    "df_financial = df_financial.dropna().reset_index(drop=True)"
   ]
  },
  {
   "cell_type": "code",
   "execution_count": 27,
   "metadata": {},
   "outputs": [],
   "source": [
    "df_financial['return.above.average'] = df_financial['return.above.average'].astype('int')"
   ]
  },
  {
   "cell_type": "code",
   "execution_count": 196,
   "metadata": {},
   "outputs": [
    {
     "data": {
      "text/plain": [
       "<matplotlib.axes._subplots.AxesSubplot at 0x2b34bec3c70>"
      ]
     },
     "execution_count": 196,
     "metadata": {},
     "output_type": "execute_result"
    },
    {
     "data": {
      "image/png": "[encoded data removed]",
      "text/plain": [
       "<Figure size 792x648 with 2 Axes>"
      ]
     },
     "metadata": {
      "needs_background": "light"
     },
     "output_type": "display_data"
    }
   ],
   "source": [
    "import seaborn as sns\n",
    "import matplotlib.pyplot as plt\n",
    "\n",
    "corr = df_financial.corr()\n",
    "\n",
    "# Generate a mask for the upper triangle\n",
    "mask = np.triu(np.ones_like(corr, dtype=bool))\n",
    "\n",
    "# Set up the matplotlib figure\n",
    "f, ax = plt.subplots(figsize=(11, 9))\n",
    "\n",
    "# Generate a custom diverging colormap\n",
    "cmap = sns.diverging_palette(230, 20, as_cmap=True)\n",
    "\n",
    "# Draw the heatmap with the mask and correct aspect ratio\n",
    "sns.heatmap(corr, mask=mask, cmap=cmap, vmax=.3, center=0,\n",
    "            square=True, linewidths=.5, cbar_kws={\"shrink\": .5})"
   ]
  },
  {
   "cell_type": "code",
   "execution_count": 236,
   "metadata": {},
   "outputs": [
    {
     "data": {
      "text/plain": [
       "<matplotlib.axes._subplots.AxesSubplot at 0x2b351398eb0>"
      ]
     },
     "execution_count": 236,
     "metadata": {},
     "output_type": "execute_result"
    },
    {
     "data": {
      "image/png": "[encoded data removed]",
      "text/plain": [
       "<Figure size 1296x720 with 1 Axes>"
      ]
     },
     "metadata": {
      "needs_background": "light"
     },
     "output_type": "display_data"
    }
   ],
   "source": [
    "comp_seg = pd.DataFrame(df_financial.groupby('sic')['cik'].count()).reset_index()\n",
    "comp_seg = comp_seg.sort_values('cik')\n",
    "comp_seg['sic'] = comp_seg['sic'].astype('str')\n",
    "\n",
    "import matplotlib.pyplot as plt\n",
    "comp_seg.plot.bar(x='sic', y='cik', rot=0, figsize=(18,10))"
   ]
  },
  {
   "cell_type": "markdown",
   "metadata": {},
   "source": [
    "#### Importing textual data"
   ]
  },
  {
   "cell_type": "code",
   "execution_count": 36,
   "metadata": {},
   "outputs": [],
   "source": [
    "import os\n",
    "import pickle\n",
    "from sklearn.feature_extraction.text import TfidfVectorizer\n",
    "from nltk.stem import WordNetLemmatizer \n",
    "from nltk import word_tokenize"
   ]
  },
  {
   "cell_type": "code",
   "execution_count": 37,
   "metadata": {},
   "outputs": [],
   "source": [
    "#import txts files\n",
    "with open('txts.pickle', 'rb') as handle_txts:\n",
    "    txts = pickle.load(handle_txts)\n",
    "txts = txts.drop('Unnamed: 0', axis=1)\n",
    "with open('subs.pickle', 'rb') as handle_subs:\n",
    "    subs = pickle.load(handle_subs)"
   ]
  },
  {
   "cell_type": "code",
   "execution_count": 38,
   "metadata": {},
   "outputs": [],
   "source": [
    "#filter only service companies from subs file\n",
    "df_txt = subs[(subs['fp']=='FY') & (subs['fy']>2011) & (subs['fy']<2020) & subs['cik'].isin(companies)]"
   ]
  },
  {
   "cell_type": "code",
   "execution_count": 39,
   "metadata": {},
   "outputs": [],
   "source": [
    "df_txt_selected = subs[['adsh', 'cik', 'fy']][subs['cik'].isin(companies)]"
   ]
  },
  {
   "cell_type": "code",
   "execution_count": 40,
   "metadata": {},
   "outputs": [
    {
     "data": {
      "text/plain": [
       "0.2300242559444769"
      ]
     },
     "execution_count": 40,
     "metadata": {},
     "output_type": "execute_result"
    }
   ],
   "source": [
    "#get adsh for the selected companies\n",
    "selected_adsh = subs['adsh'][subs['cik'].isin(companies)]\n",
    "# Check the proportion of companies - 23%\n",
    "len(selected_adsh)/len(subs)"
   ]
  },
  {
   "cell_type": "code",
   "execution_count": 41,
   "metadata": {},
   "outputs": [],
   "source": [
    "#filter selected companies from txts file\n",
    "txt_selected = txts[txts['adsh'].isin(selected_adsh)]\n",
    "df_txt = df_txt_selected.merge(txt_selected, on='adsh')"
   ]
  },
  {
   "cell_type": "code",
   "execution_count": 42,
   "metadata": {},
   "outputs": [
    {
     "data": {
      "text/plain": [
       "884760"
      ]
     },
     "execution_count": 42,
     "metadata": {},
     "output_type": "execute_result"
    }
   ],
   "source": [
    "len(df_txt)"
   ]
  },
  {
   "cell_type": "code",
   "execution_count": 43,
   "metadata": {},
   "outputs": [],
   "source": [
    "# Filtering only disclosure text blocks\n",
    "df_txt = df_txt[df_txt['tag'].str.contains('Disclosure')]"
   ]
  },
  {
   "cell_type": "code",
   "execution_count": 44,
   "metadata": {},
   "outputs": [
    {
     "data": {
      "text/plain": [
       "188794"
      ]
     },
     "execution_count": 44,
     "metadata": {},
     "output_type": "execute_result"
    }
   ],
   "source": [
    "len(df_txt)"
   ]
  },
  {
   "cell_type": "markdown",
   "metadata": {},
   "source": [
    "#### Merging text blocks"
   ]
  },
  {
   "cell_type": "code",
   "execution_count": 45,
   "metadata": {},
   "outputs": [],
   "source": [
    "check_comp = df_financial.rename(columns={'Fiscal Year':'fy'})"
   ]
  },
  {
   "cell_type": "code",
   "execution_count": 46,
   "metadata": {},
   "outputs": [],
   "source": [
    "df_txt['value'] = df_txt['value'].astype('str')"
   ]
  },
  {
   "cell_type": "code",
   "execution_count": 47,
   "metadata": {},
   "outputs": [],
   "source": [
    "values = df_txt.groupby(['adsh','fy'])['value'].agg(' '.join)"
   ]
  },
  {
   "cell_type": "code",
   "execution_count": 48,
   "metadata": {},
   "outputs": [],
   "source": [
    "values =  pd.DataFrame(values)"
   ]
  },
  {
   "cell_type": "code",
   "execution_count": 49,
   "metadata": {},
   "outputs": [],
   "source": [
    "values.reset_index(inplace=True)"
   ]
  },
  {
   "cell_type": "code",
   "execution_count": 50,
   "metadata": {},
   "outputs": [],
   "source": [
    "values = values.merge(df_txt_selected, on=['adsh', 'fy'], how='left')"
   ]
  },
  {
   "cell_type": "code",
   "execution_count": 51,
   "metadata": {},
   "outputs": [],
   "source": [
    "values_n = values.drop('adsh', axis=1) "
   ]
  },
  {
   "cell_type": "code",
   "execution_count": 52,
   "metadata": {},
   "outputs": [],
   "source": [
    "df_merged = check_comp.merge(values_n, on=['cik', 'fy'], how = 'right')"
   ]
  },
  {
   "cell_type": "code",
   "execution_count": 56,
   "metadata": {},
   "outputs": [],
   "source": [
    "df_merged = df_merged.replace([np.inf, -np.inf], np.nan)"
   ]
  },
  {
   "cell_type": "code",
   "execution_count": 101,
   "metadata": {},
   "outputs": [],
   "source": [
    "df_merged = df_merged.dropna().reset_index(drop=True)"
   ]
  },
  {
   "cell_type": "markdown",
   "metadata": {},
   "source": [
    "#### Preprocessing texts "
   ]
  },
  {
   "cell_type": "code",
   "execution_count": 60,
   "metadata": {},
   "outputs": [],
   "source": [
    "#including some non-printable character in the stopwords\n",
    "from gensim.parsing.preprocessing import STOPWORDS\n",
    "my_stop_words = STOPWORDS.union(set(['A&amp;B', '&amp', '\\0', '\\1', '\\2', '\\3', '\\4', '\\5', '\\6', '\\a', '\\b', '\\t', '\\n', '\\v', '\\f', '\\r', \n",
    "'\\x0e', '\\x0f', '\\x10', '\\x11', '\\x12', '\\x13', '\\x14', '\\x15', '\\x16', '\\x17', '\\x18', '\\x19', '\\x1a',\n",
    "'\\x1b', '\\x1c', '\\x1d', '\\x1e', '\\x1f', '\u001d",
    "', 'nan', '_', '__', '___', '____', '_____', '______', '_______', '________',\n",
    "'_________', '__________', '___________', '____________', '_____________', '______________', '_______________',\n",
    "'________________', '_________________', '____________________']))"
   ]
  },
  {
   "cell_type": "code",
   "execution_count": 61,
   "metadata": {},
   "outputs": [],
   "source": [
    "# tranform texts into a list to iterate faster \n",
    "value_list = list(df_merged['value'].astype(str))"
   ]
  },
  {
   "cell_type": "code",
   "execution_count": 62,
   "metadata": {},
   "outputs": [],
   "source": [
    "from gensim.utils import tokenize\n",
    "tokens = [list(tokenize(doc, lower=True, deacc=True, encoding='utf8', errors='strict')) for doc in value_list]\n",
    "tokens_str = [' '.join(row) for row in tokens]"
   ]
  },
  {
   "cell_type": "code",
   "execution_count": 63,
   "metadata": {},
   "outputs": [],
   "source": [
    "from gensim.parsing.preprocessing import remove_stopwords\n",
    "tokens_str = [remove_stopwords(h) for h in tokens_str]"
   ]
  },
  {
   "cell_type": "code",
   "execution_count": 64,
   "metadata": {},
   "outputs": [],
   "source": [
    "from nltk.stem import WordNetLemmatizer\n",
    "lemmatizer = WordNetLemmatizer() \n",
    "lemma = [lemmatizer.lemmatize(h, 'v') for h in tokens_str]"
   ]
  },
  {
   "cell_type": "code",
   "execution_count": 65,
   "metadata": {},
   "outputs": [],
   "source": [
    "token_list = [word.split(' ') for word in lemma]"
   ]
  },
  {
   "cell_type": "code",
   "execution_count": 66,
   "metadata": {},
   "outputs": [],
   "source": [
    "token_list = [word for word in token_list if len(word)>2]"
   ]
  },
  {
   "cell_type": "markdown",
   "metadata": {},
   "source": [
    "#### word to vector"
   ]
  },
  {
   "cell_type": "code",
   "execution_count": null,
   "metadata": {},
   "outputs": [],
   "source": [
    "#from gensim.models import Word2Vec \n",
    "#model = Word2Vec(token_list, size=300, window=5, min_count=2, sample=1e-3, sg=1, iter=5)"
   ]
  },
  {
   "cell_type": "code",
   "execution_count": null,
   "metadata": {},
   "outputs": [],
   "source": [
    "#model.save(\"word2vec.model\")"
   ]
  },
  {
   "cell_type": "code",
   "execution_count": 67,
   "metadata": {},
   "outputs": [],
   "source": [
    "from gensim.models import Word2Vec\n",
    "model = Word2Vec.load(\"word2vec.model\")"
   ]
  },
  {
   "cell_type": "code",
   "execution_count": 68,
   "metadata": {},
   "outputs": [],
   "source": [
    "word_vectors = model.wv"
   ]
  },
  {
   "cell_type": "code",
   "execution_count": 69,
   "metadata": {},
   "outputs": [
    {
     "name": "stderr",
     "output_type": "stream",
     "text": [
      "<ipython-input-69-16010502633d>:2: DeprecationWarning: Call to deprecated `wv` (Attribute will be removed in 4.0.0, use self instead).\n",
      "  for w in word_vectors.wv.vocab.keys():\n",
      "<ipython-input-69-16010502633d>:3: DeprecationWarning: Call to deprecated `wv` (Attribute will be removed in 4.0.0, use self instead).\n",
      "  embeddings_index[w] = word_vectors.wv[w]\n"
     ]
    }
   ],
   "source": [
    "embeddings_index = {}\n",
    "for w in word_vectors.wv.vocab.keys():\n",
    "    embeddings_index[w] = word_vectors.wv[w]"
   ]
  },
  {
   "cell_type": "code",
   "execution_count": 70,
   "metadata": {},
   "outputs": [],
   "source": [
    "from keras.preprocessing.text import Tokenizer\n",
    "from keras.preprocessing.sequence import pad_sequences\n",
    "\n",
    "tokenizer = Tokenizer(num_words=50000)\n",
    "tokenizer.fit_on_texts(token_list)\n",
    "sequences = tokenizer.texts_to_sequences(token_list)"
   ]
  },
  {
   "cell_type": "code",
   "execution_count": 71,
   "metadata": {},
   "outputs": [],
   "source": [
    "num_words = 50000\n",
    "embedding_matrix = np.zeros((num_words, 300))\n",
    "for word, i in tokenizer.word_index.items():\n",
    "    if i >= num_words:\n",
    "        continue\n",
    "    embedding_vector = embeddings_index.get(word)\n",
    "    if embedding_vector is not None:\n",
    "        embedding_matrix[i] = embedding_vector"
   ]
  },
  {
   "cell_type": "code",
   "execution_count": 72,
   "metadata": {},
   "outputs": [
    {
     "data": {
      "text/plain": [
       "33575"
      ]
     },
     "execution_count": 72,
     "metadata": {},
     "output_type": "execute_result"
    }
   ],
   "source": [
    "length = []\n",
    "for x in value_list:\n",
    "    length.append(len(x.split()))\n",
    "max(length)"
   ]
  },
  {
   "cell_type": "code",
   "execution_count": 73,
   "metadata": {},
   "outputs": [],
   "source": [
    "x_train_seq = pad_sequences(sequences, maxlen=33575)"
   ]
  },
  {
   "cell_type": "code",
   "execution_count": 74,
   "metadata": {},
   "outputs": [
    {
     "data": {
      "text/plain": [
       "(9765, 33575)"
      ]
     },
     "execution_count": 74,
     "metadata": {},
     "output_type": "execute_result"
    }
   ],
   "source": [
    "x_train_seq.shape"
   ]
  }
 ],
 "metadata": {
  "kernelspec": {
   "display_name": "Python 3",
   "language": "python",
   "name": "python3"
  },
  "language_info": {
   "codemirror_mode": {
    "name": "ipython",
    "version": 3
   },
   "file_extension": ".py",
   "mimetype": "text/x-python",
   "name": "python",
   "nbconvert_exporter": "python",
   "pygments_lexer": "ipython3",
   "version": "3.8.3"
  }
 },
 "nbformat": 4,
 "nbformat_minor": 4
}
